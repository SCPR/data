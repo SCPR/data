{
 "cells": [
  {
   "cell_type": "code",
   "execution_count": 23,
   "metadata": {
    "collapsed": false
   },
   "outputs": [],
   "source": [
    "import pandas as pd \n",
    "import urllib2\n",
    "import time \n",
    "from bs4 import BeautifulSoup\n",
    "\n"
   ]
  },
  {
   "cell_type": "code",
   "execution_count": 37,
   "metadata": {
    "collapsed": false
   },
   "outputs": [
    {
     "data": {
      "text/plain": [
       "Enforcement Actions                                \n",
       "Fed and State Inspected Miles-GG                 11\n",
       "Fed and State Inspected Miles-GT                  1\n",
       "Fed and State Inspected Miles-HL                  0\n",
       "Gas Gathering                               Present\n",
       "Gas Transmission                            Present\n",
       "Hazardous Liquid                            Present\n",
       "ID                                            31067\n",
       "Incidents                                          \n",
       "Inspections                                      17\n",
       "Name                                             NA\n",
       "States of Operation-GG                           CA\n",
       "States of Operation-GT                           CA\n",
       "States of Operation-HL                           CA\n",
       "Enforcement Actions                               6\n",
       "Fed and State Inspected Miles-GG                 NA\n",
       "Fed and State Inspected Miles-GT                733\n",
       "Fed and State Inspected Miles-HL                 NA\n",
       "Gas Gathering                                    NA\n",
       "Gas Transmission                            Present\n",
       "Hazardous Liquid                                 NA\n",
       "ID                                              117\n",
       "Incidents                                          \n",
       "Inspections                                      10\n",
       "Name                                             NA\n",
       "States of Operation-GG                           NA\n",
       "States of Operation-GT               CA,KS,LA,OH,TX\n",
       "States of Operation-HL                           NA\n",
       "Enforcement Actions                               9\n",
       "Fed and State Inspected Miles-GG                 NA\n",
       "                                         ...       \n",
       "States of Operation-GT                           NA\n",
       "States of Operation-HL                        CA,OR\n",
       "Enforcement Actions                                \n",
       "Fed and State Inspected Miles-GG                 NA\n",
       "Fed and State Inspected Miles-GT                 NA\n",
       "Fed and State Inspected Miles-HL                 12\n",
       "Gas Gathering                                    NA\n",
       "Gas Transmission                                 NA\n",
       "Hazardous Liquid                            Present\n",
       "ID                                            31136\n",
       "Incidents                                          \n",
       "Inspections                                        \n",
       "Name                                             NA\n",
       "States of Operation-GG                           NA\n",
       "States of Operation-GT                           NA\n",
       "States of Operation-HL                           CA\n",
       "Enforcement Actions                                \n",
       "Fed and State Inspected Miles-GG                 NA\n",
       "Fed and State Inspected Miles-GT                 34\n",
       "Fed and State Inspected Miles-HL                 NA\n",
       "Gas Gathering                                    NA\n",
       "Gas Transmission                            Present\n",
       "Hazardous Liquid                                 NA\n",
       "ID                                            31287\n",
       "Incidents                                          \n",
       "Inspections                                        \n",
       "Name                                             NA\n",
       "States of Operation-GG                           NA\n",
       "States of Operation-GT                           CA\n",
       "States of Operation-HL                           NA\n",
       "dtype: object"
      ]
     },
     "execution_count": 37,
     "metadata": {},
     "output_type": "execute_result"
    }
   ],
   "source": [
    "def operator_information(master_list): \n",
    "    \n",
    "    open_url=urllib2.urlopen(master_list)\n",
    "    \n",
    "    read_page=BeautifulSoup(open_url)\n",
    "    \n",
    "    tbody =  read_page.find('tbody')\n",
    "    \n",
    "    list_tr = tbody.find_all('tr')\n",
    "    \n",
    "    list_rows = []\n",
    "    \n",
    "    for item in list_tr:\n",
    "        \n",
    "        row = {\"Name\": \"NA\" , \"ID\": \"NA\", \"Incidents\": \"NA\", \"Inspections\": 'NA', \"Enforcement Actions\": \"NA\", \"Hazardous Liquid\": \"NA\" , \"States of Operation-HL\": \"NA\" , \"Fed and State Inspected Miles-HL\": \"NA\" , \"Gas Transmission\": \"NA\" , \"States of Operation-GT\": \"NA\" , \"Fed and State Inspected Miles-GT\": \"NA\" , \"Gas Gathering\": \"NA\" , \"States of Operation-GG\": \"NA\" , \"Fed and State Inspected Miles-GG\": \"NA\" }\n",
    "        \n",
    "        operator_page = BeautifulSoup(urllib2.urlopen(\"http://primis.phmsa.dot.gov/comm/reports/operator/\"+item.find('a').get('href')))\n",
    "        \n",
    "        if operator_page.find(text = \"CA\"):\n",
    "\n",
    "            my_table = operator_page.find(\"thead\")\n",
    "\n",
    "            information =  my_table.find_all('tr')\n",
    "            \n",
    "            info_text = my_table.text\n",
    "            \n",
    "            row[\"Name\"] = item.find_all('td')[1].text\n",
    "            \n",
    "            row[\"ID\"] = int(item.find_all('td')[0].text)\n",
    "            \n",
    "            if item.find_all('td')[4].text == ' ':\n",
    "                row[\"Incidents\"] = 'NA'\n",
    "            else:\n",
    "                row[\"Incidents\"] = item.find_all('td')[4].text\n",
    "            \n",
    "            if item.find_all('td')[5].text == ' ':\n",
    "                row[\"Inspections\"] = 'NA'\n",
    "            else:\n",
    "                row[\"Inspections\"] = item.find_all('td')[5].text\n",
    "            \n",
    "            if item.find_all('td')[6].text == ' ':\n",
    "                row[\"Enforcement Actions\"] = 'NA'\n",
    "            else:\n",
    "                row[\"Enforcement Actions\"] = item.find_all('td')[6].text\n",
    "                    \n",
    "            \n",
    "            if \"Hazardous Liquid\" in info_text:\n",
    "                row['Hazardous Liquid'] = \"Present\"\n",
    "                row['States of Operation-HL'] = information[1].find_all('td')[0].text\n",
    "                row['Fed and State Inspected Miles-HL'] = information[2].find_all('td')[0].text\n",
    "\n",
    "            if \"Gas Transmission\" in info_text:\n",
    "                row['Gas Transmission'] = \"Present\"\n",
    "                row['States of Operation-GT'] = information[4].find_all('td')[0].text\n",
    "                row['Fed and State Inspected Miles-GT'] = information[5].find_all('td')[0].text\n",
    "\n",
    "            if \"Gas Gathering\" in info_text:\n",
    "                row['Gas Gathering'] = \"Present\"\n",
    "                row['States of Operation-GG'] = information[7].find_all('td')[0].text\n",
    "                row['Fed and State Inspected Miles-GG'] = information[8].find_all('td')[0].text\n",
    "            \n",
    "            list_rows.append(row)\n",
    "    \n",
    "    return list_rows\n",
    "            \n",
    "\n",
    "list_series = []    \n",
    "\n",
    "for item in operator_information(\"http://primis.phmsa.dot.gov/comm/reports/operator/OperatorListNoJS.html\"):\n",
    "    list_series.append(pd.Series(item))\n",
    "\n",
    "operator_dataframe = pd.concat(list_series)\n",
    "\n",
    "operator_dataframe\n",
    "    "
   ]
  },
  {
   "cell_type": "code",
   "execution_count": 31,
   "metadata": {
    "collapsed": false
   },
   "outputs": [
    {
     "data": {
      "text/plain": [
       "24"
      ]
     },
     "execution_count": 31,
     "metadata": {},
     "output_type": "execute_result"
    }
   ],
   "source": [
    "int('          24')\n"
   ]
  },
  {
   "cell_type": "code",
   "execution_count": null,
   "metadata": {
    "collapsed": true
   },
   "outputs": [],
   "source": []
  }
 ],
 "metadata": {
  "kernelspec": {
   "display_name": "Python 2",
   "language": "python",
   "name": "python2"
  },
  "language_info": {
   "codemirror_mode": {
    "name": "ipython",
    "version": 2
   },
   "file_extension": ".py",
   "mimetype": "text/x-python",
   "name": "python",
   "nbconvert_exporter": "python",
   "pygments_lexer": "ipython2",
   "version": "2.7.10"
  }
 },
 "nbformat": 4,
 "nbformat_minor": 0
}
