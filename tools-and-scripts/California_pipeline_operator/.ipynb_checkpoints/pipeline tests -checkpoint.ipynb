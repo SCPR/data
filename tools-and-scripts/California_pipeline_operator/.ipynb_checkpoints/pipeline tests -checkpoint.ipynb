{
 "cells": [
  {
   "cell_type": "code",
   "execution_count": 4,
   "metadata": {
    "collapsed": false
   },
   "outputs": [],
   "source": [
    "from bs4 import BeautifulSoup\n",
    "import urllib2\n",
    "import pandas as pd"
   ]
  },
  {
   "cell_type": "code",
   "execution_count": 5,
   "metadata": {
    "collapsed": false
   },
   "outputs": [],
   "source": [
    "url=urllib2.urlopen(\"http://primis.phmsa.dot.gov/comm/reports/operator/OperatorListNoJS.html\")\n",
    "soup=BeautifulSoup(url)"
   ]
  },
  {
   "cell_type": "code",
   "execution_count": 7,
   "metadata": {
    "collapsed": false
   },
   "outputs": [],
   "source": [
    "#very simple code for getting all the links to pipeline operators\n",
    "list_all_operators=[]\n",
    "\n",
    "link_ca_operators = []\n",
    "\n",
    "for link in soup.find_all('a'):\n",
    "    if link.get('href')[0]==\"O\":\n",
    "        list_all_operators.append(\"http://primis.phmsa.dot.gov/comm/reports/operator/\"+link.get('href'))\n",
    "\n",
    "for item in list_all_operators:\n",
    "    url = BeautifulSoup(urllib2.urlopen(item))\n",
    "    if url.find(text=\"CA\"):\n",
    "        my_table = url.find_all(\"thead\")\n",
    "        rows = my_table[0].find_all(['th','td'])\n",
    "        for row in rows:\n",
    "            if len(row.text)>1 and row.text != '\\n':\n",
    "                link_ca_operators.append(row.text)\n",
    "    if len(link_ca_operators) == 20:\n",
    "        break\n",
    "\n",
    "#test_url=urllib2.urlopen(\"http://primis.phmsa.dot.gov/comm/reports/operator/OperatorReport_opid_117.html\")\n",
    "\n"
   ]
  },
  {
   "cell_type": "code",
   "execution_count": 8,
   "metadata": {
    "collapsed": false
   },
   "outputs": [
    {
     "name": "stdout",
     "output_type": "stream",
     "text": [
      "20\n"
     ]
    }
   ],
   "source": [
    "print len(link_ca_operators)"
   ]
  },
  {
   "cell_type": "code",
   "execution_count": 110,
   "metadata": {
    "collapsed": false
   },
   "outputs": [],
   "source": [
    "for link in link_ca_operators:\n",
    "    test_page=BeautifulSoup(urllib2.urlopen(link))\n",
    "    my_table = test_page.find_all(\"thead\")\n",
    "    rows = my_table[0].find_all(['th','td'])\n",
    "\n",
    "    print test_page.find('h4').text + \"\\n\"\n",
    "\n",
    "    for row in rows:\n",
    "        if len(row.text)>1 and row.text != '\\n':\n",
    "            print row.text"
   ]
  },
  {
   "cell_type": "code",
   "execution_count": null,
   "metadata": {
    "collapsed": false
   },
   "outputs": [],
   "source": []
  },
  {
   "cell_type": "code",
   "execution_count": 53,
   "metadata": {
    "collapsed": false
   },
   "outputs": [],
   "source": []
  },
  {
   "cell_type": "code",
   "execution_count": 339,
   "metadata": {
    "collapsed": false
   },
   "outputs": [
    {
     "name": "stdout",
     "output_type": "stream",
     "text": [
      "AIR PRODUCTS & CHEMICALS INC \n",
      "\n",
      "Gas Transmission\n",
      "States of Operation\n",
      " CA,KS,LA,OH,TX\n",
      "Federal and State Inspected miles\n",
      "         733\n"
     ]
    }
   ],
   "source": [
    "test_url=urllib2.urlopen(\"http://primis.phmsa.dot.gov/comm/reports/operator/OperatorReport_opid_117.html\")\n",
    "test_page=BeautifulSoup(test_url)\n",
    "my_table = test_page.find_all(\"thead\")\n",
    "rows = my_table[0].find_all(['th','td'])\n",
    "\n",
    "print test_page.find('h4').text + \"\\n\"\n",
    "\n",
    "for row in rows:\n",
    "    if len(row.text)>1 and row.text != '\\n':\n",
    "        print row.text\n",
    "        "
   ]
  },
  {
   "cell_type": "code",
   "execution_count": 16,
   "metadata": {
    "collapsed": false
   },
   "outputs": [
    {
     "name": "stdout",
     "output_type": "stream",
     "text": [
      "{'States of Operation-GT': 0, 'Hazardous Liquid': 'NA', 'Fed and State Inspected Miles-GT': 0, 'States of Operation-GG': 0, 'States of Operation-HL': 'NA', 'Fed and State Inspected Miles-HL': 'NA', 'Gas Transmission': 0, 'Gas Gathering': 0, 'Fed and State Inspected Miles-GG': 0}\n"
     ]
    }
   ],
   "source": [
    "#air products and chemicals\n",
    "test_url=urllib2.urlopen(\"http://primis.phmsa.dot.gov/comm/reports/operator/OperatorReport_opid_117.html\")\n",
    "test_page=BeautifulSoup(test_url)\n",
    "my_table = test_page.find_all(\"thead\")\n",
    "information =  my_table[0].text\n",
    "\n",
    "row = {\"Hazardous Liquid\": 0 , \"States of Operation-HL\": 0 , \"Fed and State Inspected Miles-HL\": 0 , \"Gas Transmission\": 0 , \"States of Operation-GT\": 0 , \"Fed and State Inspected Miles-GT\": 0 , \"Gas Gathering\": 0 , \"States of Operation-GG\": 0 , \"Fed and State Inspected Miles-GG\": 0 }\n",
    "\n",
    "if \"Hazardous Liquid\" in information:\n",
    "    row[\"Hazardous Liquid\"] = 1\n",
    "    print row\n",
    "else:\n",
    "    row[\"Hazardous Liquid\"] = \"NA\"\n",
    "    row[\"States of Operation-HL\"] = \"NA\"\n",
    "    row[\"Fed and State Inspected Miles-HL\"] = \"NA\"\n",
    "    print row\n",
    "    \n"
   ]
  },
  {
   "cell_type": "code",
   "execution_count": 64,
   "metadata": {
    "collapsed": false,
    "scrolled": true
   },
   "outputs": [
    {
     "name": "stdout",
     "output_type": "stream",
     "text": [
      "{'States of Operation-GT': u' CA,KS,LA,OH,TX', 'Hazardous Liquid': 'NA', 'Fed and State Inspected Miles-GT': 733, 'States of Operation-GG': 'NA', 'States of Operation-HL': 'NA', 'Fed and State Inspected Miles-HL': 'NA', 'Gas Transmission': 'Present', 'Gas Gathering': 'NA', 'Fed and State Inspected Miles-GG': 'NA'}\n"
     ]
    }
   ],
   "source": [
    "#using placement of tr tags to get information\n",
    "test_url=urllib2.urlopen(\"http://primis.phmsa.dot.gov/comm/reports/operator/OperatorReport_opid_117.html\")\n",
    "test_page=BeautifulSoup(test_url)\n",
    "my_table = test_page.find_all(\"thead\")\n",
    "information =  my_table[0].find_all('tr')\n",
    "info_text = my_table[0].text\n",
    "\n",
    "\n",
    "row = {\"Hazardous Liquid\": \"NA\" , \"States of Operation-HL\": \"NA\" , \"Fed and State Inspected Miles-HL\": \"NA\" , \"Gas Transmission\": \"NA\" , \"States of Operation-GT\": \"NA\" , \"Fed and State Inspected Miles-GT\": \"NA\" , \"Gas Gathering\": \"NA\" , \"States of Operation-GG\": \"NA\" , \"Fed and State Inspected Miles-GG\": \"NA\" }\n",
    "\n",
    "if \"Hazardous Liquid\" in info_text:\n",
    "    row['Hazardous Liquid'] = \"Present\"\n",
    "    row['States of Operation-HL'] = information[1].find_all('td')[0].text\n",
    "    row['Fed and State Inspected Miles-HL'] = int(information[2].find_all('td')[0].text)\n",
    "\n",
    "if \"Gas Transmission\" in info_text:\n",
    "    row['Gas Transmission'] = \"Present\"\n",
    "    row['States of Operation-GT'] = information[4].find_all('td')[0].text\n",
    "    row['Fed and State Inspected Miles-GT'] = int(information[5].find_all('td')[0].text)\n",
    "\n",
    "if \"Gas Gathering\" in info_text:\n",
    "    row['Gas Gathering'] = \"Present\"\n",
    "    row['States of Operation-GG'] = information[7].find_all('td')[0].text\n",
    "    row['Fed and State Inspected Miles-GG'] = int(information[8].find_all('td')[0].text)\n",
    "\n",
    "\n",
    "print row\n",
    "\n",
    "\n"
   ]
  },
  {
   "cell_type": "code",
   "execution_count": 111,
   "metadata": {
    "collapsed": false
   },
   "outputs": [
    {
     "name": "stdout",
     "output_type": "stream",
     "text": [
      "[u'\\n', <tr>\n",
      "<th><h3>Hazardous Liquid</h3></th>\n",
      "<td> </td>\n",
      "<td class=\"filler\"></td>\n",
      "</tr>, u'\\n', <tr>\n",
      "<th>States of Operation</th>\n",
      "<td> <a href=\"../../StatePages/California.htm\">CA</a></td>\n",
      "<td class=\"filler\"></td>\n",
      "</tr>, u'\\n', <tr>\n",
      "<th>Federal and State Inspected miles</th>\n",
      "<td>           0</td>\n",
      "<td class=\"filler\"></td>\n",
      "</tr>, u'\\n', <tr>\n",
      "<th><h3>Gas Transmission</h3></th>\n",
      "<td> </td>\n",
      "<td class=\"filler\"></td>\n",
      "</tr>, u'\\n', <tr>\n",
      "<th>States of Operation</th>\n",
      "<td> <a href=\"../../StatePages/California.htm\">CA</a></td>\n",
      "<td class=\"filler\"></td>\n",
      "</tr>, u'\\n', <tr>\n",
      "<th>Federal and State Inspected miles</th>\n",
      "<td>           1</td>\n",
      "<td class=\"filler\"></td>\n",
      "</tr>, u'\\n', <tr>\n",
      "<th><h3>Gas Gathering</h3></th>\n",
      "<td> </td>\n",
      "<td class=\"filler\"></td>\n",
      "</tr>, u'\\n', <tr>\n",
      "<th>States of Operation</th>\n",
      "<td> <a href=\"../../StatePages/California.htm\">CA</a></td>\n",
      "<td class=\"filler\"></td>\n",
      "</tr>, u'\\n', <tr>\n",
      "<th>Federal and State Inspected miles</th>\n",
      "<td>          11</td>\n",
      "<td class=\"filler\"></td>\n",
      "</tr>, u'\\n']\n",
      "---\n",
      "\n",
      "Hazardous Liquid\n",
      " \n",
      "\n",
      "\n",
      "---\n",
      "\n",
      "States of Operation\n",
      " CA\n",
      "\n",
      "\n",
      "---\n",
      "\n",
      "Federal and State Inspected miles\n",
      "           0\n",
      "\n",
      "\n",
      "---\n",
      "\n",
      "Gas Transmission\n",
      " \n",
      "\n",
      "\n",
      "---\n",
      "\n",
      "States of Operation\n",
      " CA\n",
      "\n",
      "\n",
      "---\n",
      "\n",
      "Federal and State Inspected miles\n",
      "           1\n",
      "\n",
      "\n",
      "---\n",
      "\n",
      "Gas Gathering\n",
      " \n",
      "\n",
      "\n",
      "---\n",
      "\n",
      "States of Operation\n",
      " CA\n",
      "\n",
      "\n",
      "---\n",
      "\n",
      "Federal and State Inspected miles\n",
      "          11\n",
      "\n",
      "\n",
      "---\n"
     ]
    }
   ],
   "source": [
    "#aera energy\n",
    "test_url=urllib2.urlopen(\"http://primis.phmsa.dot.gov/comm/reports/operator/OperatorReport_opid_31067.html\")\n",
    "test_page=BeautifulSoup(test_url)\n",
    "my_table = test_page.find_all(\"thead\")\n",
    "\n",
    "my_clean_table = my_table[0].contents\n",
    "\n",
    "print my_clean_table\n",
    "\n",
    "for item in my_clean_table:\n",
    "    if item == '\\n':\n",
    "        print \"---\"\n",
    "        \n",
    "    else:\n",
    "        print item.text\n",
    "\n"
   ]
  },
  {
   "cell_type": "code",
   "execution_count": 63,
   "metadata": {
    "collapsed": false
   },
   "outputs": [
    {
     "name": "stdout",
     "output_type": "stream",
     "text": [
      "Gas Transmission -  \n",
      "States of Operation -  CA,KS,LA,OH,TX\n",
      "Federal and State Inspected miles -          733\n"
     ]
    },
    {
     "ename": "IndexError",
     "evalue": "list index out of range",
     "output_type": "error",
     "traceback": [
      "\u001b[0;31m---------------------------------------------------------------------------\u001b[0m",
      "\u001b[0;31mIndexError\u001b[0m                                Traceback (most recent call last)",
      "\u001b[0;32m<ipython-input-63-9baf7ffa238d>\u001b[0m in \u001b[0;36m<module>\u001b[0;34m()\u001b[0m\n\u001b[1;32m      6\u001b[0m     \u001b[0mdata\u001b[0m \u001b[0;34m=\u001b[0m \u001b[0mrow\u001b[0m\u001b[0;34m.\u001b[0m\u001b[0mfind_all\u001b[0m\u001b[0;34m(\u001b[0m\u001b[0;34m[\u001b[0m\u001b[0;34m\"th\"\u001b[0m\u001b[0;34m,\u001b[0m\u001b[0;34m'td'\u001b[0m\u001b[0;34m]\u001b[0m\u001b[0;34m)\u001b[0m\u001b[0;34m\u001b[0m\u001b[0m\n\u001b[1;32m      7\u001b[0m \u001b[0;34m\u001b[0m\u001b[0m\n\u001b[0;32m----> 8\u001b[0;31m     \u001b[0mdesired_key\u001b[0m \u001b[0;34m=\u001b[0m \u001b[0mdata\u001b[0m\u001b[0;34m[\u001b[0m\u001b[0;36m0\u001b[0m\u001b[0;34m]\u001b[0m\u001b[0;34m.\u001b[0m\u001b[0mtext\u001b[0m\u001b[0;34m\u001b[0m\u001b[0m\n\u001b[0m\u001b[1;32m      9\u001b[0m \u001b[0;34m\u001b[0m\u001b[0m\n\u001b[1;32m     10\u001b[0m     \u001b[0;32mif\u001b[0m \u001b[0mlen\u001b[0m\u001b[0;34m(\u001b[0m\u001b[0mdata\u001b[0m\u001b[0;34m)\u001b[0m \u001b[0;34m==\u001b[0m \u001b[0;36m3\u001b[0m\u001b[0;34m:\u001b[0m\u001b[0;34m\u001b[0m\u001b[0m\n",
      "\u001b[0;31mIndexError\u001b[0m: list index out of range"
     ]
    }
   ],
   "source": [
    "test_url=urllib2.urlopen(\"http://primis.phmsa.dot.gov/comm/reports/operator/OperatorReport_opid_117.html\")\n",
    "test_page=BeautifulSoup(test_url)\n",
    "my_table = test_page.find_all(\"thead\")\n",
    "rows = my_table[0].find_all(\"tr\")\n",
    "for row in rows:\n",
    "    data = row.find_all([\"th\",'td'])\n",
    "    \n",
    "    desired_key = data[0].text\n",
    "    \n",
    "    if len(data) == 3:\n",
    "        desired_value = data[1].text\n",
    "        print \"%s - %s\" % (desired_key, desired_value)\n",
    "    elif len(data) == 4:\n",
    "        desired_value = data[2].text\n",
    "        print \"%s - %s\" % (desired_key, desired_value)\n",
    "    #else:\n",
    "     #   print data\n",
    "\n"
   ]
  },
  {
   "cell_type": "code",
   "execution_count": 263,
   "metadata": {
    "collapsed": false
   },
   "outputs": [
    {
     "name": "stdout",
     "output_type": "stream",
     "text": [
      "AERA ENERGY LLC Summary \n",
      "[u'[Skip to Content]', u'Home', u'Excavators', u'Industry', u'Contact Us', u'Summary Report', u'Incidents and Mileage', u'Inspection and Enforcement', u'More Operators', u'Information Highlights', u'Pipeline Basics', u'Pipeline Glossary', u'Pipeline Library', u'Safety Regulations', u'Enforcement (PHMSA)', u'Enforcement (States)', u'Incidents Reports', u'Inspection', u'Operator Information', u'Damage Prevention', u'Integrity Management', u'Operator Qualification', u'Public Awareness', u'Related Links', u'Public Meetings', u'Links to State Pages', u'Incidents and Mileage', u'Federal Inspection and Enforcement Data', u'More Pipeline Operators', u'is available', u'incidents, mileage', u'federal inspection and enforcement data', u'Operator Summary', u'Hazardous Liquid', u' ', u'States of Operation', u'CA', u'Federal and State Inspected miles', u'           0', u'Gas Transmission', u' ', u'States of Operation', u'CA', u'Federal and State Inspected miles', u'           1', u'Gas Gathering', u' ', u'States of Operation', u'CA', u'Federal and State Inspected miles', u'          11', u'Incident and Mileage data', u'Federal Inspection and Enforcement  data', u'PHMSA  Data and Statistics', u'feedback', u'Feedback', u'Information Highlights', u'Privacy Policy', u'Accessibility Policy', u'DOT Home', u'PHMSA Home', u'PSA Forum', u'Adobe Reader']\n"
     ]
    }
   ],
   "source": [
    "#working on getting the right info out of the page\n",
    "test_url2=urllib2.urlopen(\"http://primis.phmsa.dot.gov/comm/reports/operator/OperatorReport_opid_31067.html\")\n",
    "test_page2=BeautifulSoup(test_url2)\n",
    "\n",
    "test_list=[]\n",
    "\n",
    "for item in test_page2.find_all(\"caption\",text=True):\n",
    "      print item.text\n",
    "\n",
    "#for item in test_page2.find_all([\"th\",'td'],text=True):\n",
    "#    print item.text\n",
    "\n",
    "for item in test_page2.find_all([\"th\",'td','a'],text=True):\n",
    "    test_list.append(item.text)\n",
    "print test_list"
   ]
  },
  {
   "cell_type": "code",
   "execution_count": null,
   "metadata": {
    "collapsed": true
   },
   "outputs": [],
   "source": []
  }
 ],
 "metadata": {
  "kernelspec": {
   "display_name": "Python 2",
   "language": "python",
   "name": "python2"
  },
  "language_info": {
   "codemirror_mode": {
    "name": "ipython",
    "version": 2
   },
   "file_extension": ".py",
   "mimetype": "text/x-python",
   "name": "python",
   "nbconvert_exporter": "python",
   "pygments_lexer": "ipython2",
   "version": "2.7.10"
  }
 },
 "nbformat": 4,
 "nbformat_minor": 0
}
